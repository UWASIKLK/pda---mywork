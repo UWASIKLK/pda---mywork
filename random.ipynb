{
 "cells": [
  {
   "cell_type": "markdown",
   "metadata": {},
   "source": [
    "# Random Numbers\n",
    "***"
   ]
  },
  {
   "cell_type": "markdown",
   "metadata": {},
   "source": [
    "## Prequisites\n",
    "***\n",
    "\n",
    "https://numpy.org/doc/stable/reference/random/index.html"
   ]
  },
  {
   "cell_type": "code",
   "execution_count": 18,
   "metadata": {},
   "outputs": [],
   "source": [
    "# Numerical arrays and random numbers.\n",
    "import numpy as np\n",
    "\n",
    "# Plot.\n",
    "import matplotlib.pyplot as plt"
   ]
  },
  {
   "cell_type": "markdown",
   "metadata": {},
   "source": [
    "## Generate Random Intergers\n",
    "***"
   ]
  },
  {
   "cell_type": "code",
   "execution_count": 11,
   "metadata": {},
   "outputs": [
    {
     "data": {
      "text/plain": [
       "0.801497899140012"
      ]
     },
     "execution_count": 11,
     "metadata": {},
     "output_type": "execute_result"
    }
   ],
   "source": [
    "rng = np.random.default_rng()\n",
    "# Generate one random float uniformly distributed over the range [0, 1)\n",
    "rng.random() \n"
   ]
  },
  {
   "cell_type": "code",
   "execution_count": 14,
   "metadata": {},
   "outputs": [
    {
     "data": {
      "text/plain": [
       "array([ 0.04036981,  2.23420257, -0.30845252,  1.51467954,  0.80621391,\n",
       "       -0.46579553,  0.20903685, -0.5554526 , -0.35754203,  1.2238069 ])"
      ]
     },
     "execution_count": 14,
     "metadata": {},
     "output_type": "execute_result"
    }
   ],
   "source": [
    "# Generate an array of 10 numbers according to a unit Gaussian disribution.\n",
    "rng.standard_normal(10)\n"
   ]
  },
  {
   "cell_type": "code",
   "execution_count": 17,
   "metadata": {},
   "outputs": [
    {
     "data": {
      "text/plain": [
       "array([5, 7, 5, 7, 1], dtype=int64)"
      ]
     },
     "execution_count": 17,
     "metadata": {},
     "output_type": "execute_result"
    }
   ],
   "source": [
    "# Generate an array of 5 integers uniformly over the\n",
    "rng.integers(low=0, high=10, size=5) # may vary\n"
   ]
  },
  {
   "cell_type": "code",
   "execution_count": 29,
   "metadata": {},
   "outputs": [
    {
     "data": {
      "text/plain": [
       "array([ 6,  7,  6, ..., 10,  5,  6], dtype=int64)"
      ]
     },
     "execution_count": 29,
     "metadata": {},
     "output_type": "execute_result"
    }
   ],
   "source": [
    "# generate 10,000 integers over the range [0,10).\n",
    "\n",
    "x = rng.integers (low=1, high=10, size=10000, endpoint= True)\n",
    "\n",
    "# Show x\n",
    "x"
   ]
  },
  {
   "cell_type": "code",
   "execution_count": 31,
   "metadata": {},
   "outputs": [
    {
     "data": {
      "text/plain": [
       "(array([ 1,  2,  3,  4,  5,  6,  7,  8,  9, 10], dtype=int64),\n",
       " array([ 969, 1044, 1007, 1010,  973,  968,  990,  994, 1036, 1009],\n",
       "       dtype=int64))"
      ]
     },
     "execution_count": 31,
     "metadata": {},
     "output_type": "execute_result"
    }
   ],
   "source": [
    "# Get the counts.\n",
    "values, counts = np.unique(x, return_counts=True)\n",
    "\n",
    "#Show.\n",
    "values, counts"
   ]
  },
  {
   "cell_type": "code",
   "execution_count": 32,
   "metadata": {},
   "outputs": [
    {
     "data": {
      "text/plain": [
       "<BarContainer object of 10 artists>"
      ]
     },
     "execution_count": 32,
     "metadata": {},
     "output_type": "execute_result"
    },
    {
     "data": {
      "image/png": "[encoded data removed]",
      "text/plain": [
       "<Figure size 640x480 with 1 Axes>"
      ]
     },
     "metadata": {},
     "output_type": "display_data"
    }
   ],
   "source": [
    "# Plot the bar chart.\n",
    "\n",
    "plt.bar(values, counts)"
   ]
  },
  {
   "cell_type": "markdown",
   "metadata": {},
   "source": [
    "## Uniform Distribution\n",
    "\n",
    "***"
   ]
  },
  {
   "cell_type": "code",
   "execution_count": 53,
   "metadata": {},
   "outputs": [
    {
     "data": {
      "text/plain": [
       "array([8.32509426, 8.28031624, 4.58727419, ..., 7.6503631 , 2.87295242,\n",
       "       4.28689047])"
      ]
     },
     "execution_count": 53,
     "metadata": {},
     "output_type": "execute_result"
    }
   ],
   "source": [
    "# Generate 10,000 floats uniformly distributed over the range [0,10).\n",
    "\n",
    "x = rng.uniform(low=0.0, high=10.0, size=10000)\n",
    "\n",
    "#Show.\n",
    "x"
   ]
  },
  {
   "cell_type": "code",
   "execution_count": 54,
   "metadata": {},
   "outputs": [
    {
     "data": {
      "text/plain": [
       "(array([3.77694755e-05, 1.28312451e-03, 2.69099764e-03, ...,\n",
       "        9.99576072e+00, 9.99825282e+00, 9.99880740e+00]),\n",
       " array([1, 1, 1, ..., 1, 1, 1], dtype=int64),\n",
       " 10000,\n",
       " 10000)"
      ]
     },
     "execution_count": 54,
     "metadata": {},
     "output_type": "execute_result"
    }
   ],
   "source": [
    "# Get the counts.\n",
    "values, counts = np.unique(x, return_counts=True)\n",
    "\n",
    "#Show.\n",
    "values, counts, values.size, counts.size"
   ]
  },
  {
   "cell_type": "code",
   "execution_count": 59,
   "metadata": {},
   "outputs": [
    {
     "data": {
      "text/plain": [
       "array([2.3098853 , 9.24636139, 6.80528063, 0.78692607, 0.21534789,\n",
       "       9.0516763 , 3.7333916 , 0.49247824, 5.2477489 , 1.28810001,\n",
       "       5.47356943, 0.96526532, 8.7628767 , 3.60724115, 2.11054518,\n",
       "       9.4673022 , 9.33056742, 3.7054418 , 4.1115903 , 0.7256147 ,\n",
       "       5.78816621, 1.70713365, 3.72891753, 7.91937611, 5.91595055,\n",
       "       9.51744771, 6.16281562, 1.48685756, 7.8332751 , 6.41025754,\n",
       "       2.88861444, 7.72709221, 1.76038268, 5.49159555, 0.82941118,\n",
       "       3.12708279, 0.98999297, 9.34246386, 4.08627585, 4.34045215,\n",
       "       6.29972618, 3.97340538, 0.74710054, 4.51420032, 7.17968687,\n",
       "       4.3438415 , 0.68533194, 5.12220037, 0.39172502, 0.0684473 ,\n",
       "       9.80866477, 0.81875745, 2.54046578, 2.77797971, 2.00958474,\n",
       "       2.44051602, 6.10934665, 5.49481825, 4.52124451, 0.01657648,\n",
       "       7.41210637, 5.37856774, 9.49051916, 5.0048968 , 7.01807182,\n",
       "       5.84233285, 7.43222844, 2.68760766, 1.0635365 , 6.88833763,\n",
       "       5.15560349, 2.2842795 , 7.58346456, 8.55344202, 8.42123159,\n",
       "       7.71150102, 9.34661202, 7.8005197 , 0.67813605, 4.6210125 ,\n",
       "       7.63276372, 0.42390949, 2.86751473, 9.01232454, 7.99711497,\n",
       "       4.14199159, 6.53135364, 1.44009185, 8.04034772, 4.94075002,\n",
       "       5.08378475, 3.73122839, 7.7005058 , 1.59464033, 8.8324869 ,\n",
       "       4.55571974, 9.52076519, 1.62847683, 5.9554245 , 9.99198519])"
      ]
     },
     "execution_count": 59,
     "metadata": {},
     "output_type": "execute_result"
    }
   ],
   "source": [
    "# Generate 100 floats uniformly distributed over \n",
    "\n",
    "x = rng.uniform(low=0.0, high=10.0, size=100)\n",
    "\n",
    "#Show.\n",
    "x"
   ]
  },
  {
   "cell_type": "code",
   "execution_count": 60,
   "metadata": {},
   "outputs": [
    {
     "data": {
      "text/plain": [
       "(array([0.01657648, 0.0684473 , 0.21534789, 0.39172502, 0.42390949,\n",
       "        0.49247824, 0.67813605, 0.68533194, 0.7256147 , 0.74710054,\n",
       "        0.78692607, 0.81875745, 0.82941118, 0.96526532, 0.98999297,\n",
       "        1.0635365 , 1.28810001, 1.44009185, 1.48685756, 1.59464033,\n",
       "        1.62847683, 1.70713365, 1.76038268, 2.00958474, 2.11054518,\n",
       "        2.2842795 , 2.3098853 , 2.44051602, 2.54046578, 2.68760766,\n",
       "        2.77797971, 2.86751473, 2.88861444, 3.12708279, 3.60724115,\n",
       "        3.7054418 , 3.72891753, 3.73122839, 3.7333916 , 3.97340538,\n",
       "        4.08627585, 4.1115903 , 4.14199159, 4.34045215, 4.3438415 ,\n",
       "        4.51420032, 4.52124451, 4.55571974, 4.6210125 , 4.94075002,\n",
       "        5.0048968 , 5.08378475, 5.12220037, 5.15560349, 5.2477489 ,\n",
       "        5.37856774, 5.47356943, 5.49159555, 5.49481825, 5.78816621,\n",
       "        5.84233285, 5.91595055, 5.9554245 , 6.10934665, 6.16281562,\n",
       "        6.29972618, 6.41025754, 6.53135364, 6.80528063, 6.88833763,\n",
       "        7.01807182, 7.17968687, 7.41210637, 7.43222844, 7.58346456,\n",
       "        7.63276372, 7.7005058 , 7.71150102, 7.72709221, 7.8005197 ,\n",
       "        7.8332751 , 7.91937611, 7.99711497, 8.04034772, 8.42123159,\n",
       "        8.55344202, 8.7628767 , 8.8324869 , 9.01232454, 9.0516763 ,\n",
       "        9.24636139, 9.33056742, 9.34246386, 9.34661202, 9.4673022 ,\n",
       "        9.49051916, 9.51744771, 9.52076519, 9.80866477, 9.99198519]),\n",
       " array([1, 1, 1, 1, 1, 1, 1, 1, 1, 1, 1, 1, 1, 1, 1, 1, 1, 1, 1, 1, 1, 1,\n",
       "        1, 1, 1, 1, 1, 1, 1, 1, 1, 1, 1, 1, 1, 1, 1, 1, 1, 1, 1, 1, 1, 1,\n",
       "        1, 1, 1, 1, 1, 1, 1, 1, 1, 1, 1, 1, 1, 1, 1, 1, 1, 1, 1, 1, 1, 1,\n",
       "        1, 1, 1, 1, 1, 1, 1, 1, 1, 1, 1, 1, 1, 1, 1, 1, 1, 1, 1, 1, 1, 1,\n",
       "        1, 1, 1, 1, 1, 1, 1, 1, 1, 1, 1, 1], dtype=int64),\n",
       " 100,\n",
       " 100)"
      ]
     },
     "execution_count": 60,
     "metadata": {},
     "output_type": "execute_result"
    }
   ],
   "source": [
    "# Get the counts.\n",
    "values, counts = np.unique(x, return_counts=True)\n",
    "\n",
    "#Show.\n",
    "values, counts, values.size, counts.size\n"
   ]
  },
  {
   "cell_type": "markdown",
   "metadata": {},
   "source": []
  },
  {
   "cell_type": "code",
   "execution_count": 61,
   "metadata": {},
   "outputs": [
    {
     "data": {
      "text/plain": [
       "<BarContainer object of 100 artists>"
      ]
     },
     "execution_count": 61,
     "metadata": {},
     "output_type": "execute_result"
    },
    {
     "data": {
      "image/png": "[encoded data removed]",
      "text/plain": [
       "<Figure size 640x480 with 1 Axes>"
      ]
     },
     "metadata": {},
     "output_type": "display_data"
    }
   ],
   "source": [
    "# Plot the bar chart.\n",
    "\n",
    "plt.bar(values, counts, edgecolor = 'black')"
   ]
  },
  {
   "cell_type": "code",
   "execution_count": 50,
   "metadata": {},
   "outputs": [
    {
     "data": {
      "text/plain": [
       "(array([0.4, 0.5, 0.6, 0.9, 1.1, 1.2, 1.3, 1.4, 1.6, 1.7, 1.8, 2. , 2.1,\n",
       "        2.2, 2.3, 2.4, 2.5, 2.7, 3.4, 3.5, 4. , 4.1, 4.3, 4.5, 4.6, 4.7,\n",
       "        4.8, 5.3, 5.4, 5.6, 5.7, 5.9, 6. , 6.1, 6.3, 6.6, 6.7, 6.9, 7. ,\n",
       "        7.1, 7.3, 7.4, 7.5, 7.9, 8. , 8.2, 8.3, 8.4, 8.5, 8.6, 8.7, 9. ,\n",
       "        9.1, 9.2, 9.5, 9.6, 9.7, 9.8, 9.9]),\n",
       " array([4, 1, 2, 2, 2, 2, 2, 3, 1, 2, 2, 2, 2, 3, 1, 2, 1, 1, 1, 1, 2, 1,\n",
       "        1, 1, 1, 1, 1, 1, 1, 1, 1, 3, 1, 2, 2, 1, 1, 3, 3, 2, 3, 3, 1, 1,\n",
       "        2, 1, 1, 2, 3, 1, 3, 2, 1, 1, 1, 2, 2, 2, 1], dtype=int64),\n",
       " 59,\n",
       " 59)"
      ]
     },
     "execution_count": 50,
     "metadata": {},
     "output_type": "execute_result"
    }
   ],
   "source": [
    "# round values in x.\n",
    "x_rounded = np.round(x, decimals=1)\n",
    "\n",
    "# Get the counts.\n",
    "values, counts = np.unique(x_rounded, return_counts=True)\n",
    "\n",
    "# Show.\n",
    "values, counts, values.size, counts.size"
   ]
  },
  {
   "cell_type": "code",
   "execution_count": 51,
   "metadata": {},
   "outputs": [
    {
     "data": {
      "text/plain": [
       "<BarContainer object of 59 artists>"
      ]
     },
     "execution_count": 51,
     "metadata": {},
     "output_type": "execute_result"
    },
    {
     "data": {
      "image/png": "[encoded data removed]",
      "text/plain": [
       "<Figure size 640x480 with 1 Axes>"
      ]
     },
     "metadata": {},
     "output_type": "display_data"
    }
   ],
   "source": [
    "# Plot the bar chart.\n",
    "\n",
    "plt.bar(values, counts, edgecolor = 'black')"
   ]
  },
  {
   "cell_type": "code",
   "execution_count": null,
   "metadata": {},
   "outputs": [],
   "source": []
  },
  {
   "cell_type": "markdown",
   "metadata": {},
   "source": [
    "***\n",
    "#### End"
   ]
  }
 ],
 "metadata": {
  "kernelspec": {
   "display_name": "base",
   "language": "python",
   "name": "python3"
  },
  "language_info": {
   "codemirror_mode": {
    "name": "ipython",
    "version": 3
   },
   "file_extension": ".py",
   "mimetype": "text/x-python",
   "name": "python",
   "nbconvert_exporter": "python",
   "pygments_lexer": "ipython3",
   "version": "3.11.5"
  }
 },
 "nbformat": 4,
 "nbformat_minor": 2
}
